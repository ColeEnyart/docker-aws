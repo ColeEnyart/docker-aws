{
 "cells": [
  {
   "cell_type": "markdown",
   "metadata": {},
   "source": [
    "# Docker AWS "
   ]
  },
  {
   "cell_type": "markdown",
   "metadata": {},
   "source": [
    "### Introduction"
   ]
  },
  {
   "cell_type": "markdown",
   "metadata": {},
   "source": [
    "In this lesson, we'll see how we can run our docker image on AWS -- let's get started."
   ]
  },
  {
   "cell_type": "markdown",
   "metadata": {},
   "source": [
    "### Setting it up"
   ]
  },
  {
   "cell_type": "markdown",
   "metadata": {},
   "source": [
    "As a first step, let's take another look at our Dockerfile."
   ]
  },
  {
   "cell_type": "markdown",
   "metadata": {},
   "source": [
    "```bash\n",
    "FROM python:3.7-alpine\n",
    "WORKDIR /usr/src/app\n",
    "\n",
    "COPY ./ ./\n",
    "\n",
    "RUN apk update \\\n",
    "    && apk add postgresql-dev gcc python3-dev musl-dev\n",
    "\n",
    "RUN pip3 install -r requirements.txt\n",
    "\n",
    "CMD [\"flask\", \"run\", \"--host=0.0.0.0\", \"--port=80\"]\n",
    "```"
   ]
  },
  {
   "cell_type": "markdown",
   "metadata": {},
   "source": [
    "* You can see that we start from a version of linux that has Python installed on it.  \n",
    "* The `Copy` command is used to copy over our codebase.\n",
    "* Then we install some libraries like postgres dev, which our codebase may require.  \n",
    "* Then we install libraries in the requirements.txt (although if we want to take advantage of caching, this would occur before copying over the codebase.  \n",
    "\n",
    "The most significant line is the last one.  \n",
    "\n",
    "`CMD [\"flask\", \"run\", \"--host=0.0.0.0\", \"--port=80\"]`\n",
    "\n",
    "There, we are specifying a host of `0.0.0.0`, this tells flask to allow requests from outside computers (non-localhosts).  And we also specify a port of `80`, which is the port that, in production our requests we'll come into.  (Remember, that by default browsers make request to port 80)."
   ]
  },
  {
   "cell_type": "markdown",
   "metadata": {},
   "source": [
    "> Finally, if you look at the codebase, you'll see that to make things simpler, we are not actually connecting to a database."
   ]
  },
  {
   "cell_type": "markdown",
   "metadata": {},
   "source": [
    "### Building our image"
   ]
  },
  {
   "cell_type": "markdown",
   "metadata": {},
   "source": [
    "Ok, so our next steps will be to build our image, and push our image to dockerhub.  Then, later on, we will be able to pull down our image from dockerhub and onto EC2 machine.\n",
    "\n",
    "> **What's dockerhub?** Dockerhub is a place where we can store our images -- similar to how github is a place where we can store our code.  \n",
    "\n",
    "So before we do anything else, let's make sure we have a dockerhub account.  If you have docker desktop, you can just click on the docker icon (the ship with boxes on it), and then click on the Sign in/Create Docker ID.  Or we can just sign up [here](https://hub.docker.com/)."
   ]
  },
  {
   "cell_type": "markdown",
   "metadata": {},
   "source": [
    "<img src=\"./docker-signin.png\" width=\"30%\">"
   ]
  },
  {
   "cell_type": "markdown",
   "metadata": {},
   "source": [
    "Once you have a username, then we can build our image.  \n",
    "\n",
    "The image name needs to follow the format of `username/image_name`.  So for me, because my username is `jek2141`, I'll build and name my image like so."
   ]
  },
  {
   "cell_type": "markdown",
   "metadata": {},
   "source": [
    "* `docker build -t jek2141/foursquare_backend .`"
   ]
  },
  {
   "cell_type": "markdown",
   "metadata": {},
   "source": [
    "Ok, build your docker image using the equivalent."
   ]
  },
  {
   "cell_type": "markdown",
   "metadata": {},
   "source": [
    "From there, let's run our Docker image locally to confirm that it works."
   ]
  },
  {
   "cell_type": "markdown",
   "metadata": {},
   "source": [
    "* `docker run -p 80:80 jek2141/foursquare_backend` (replace `jek2141` with your username)"
   ]
  },
  {
   "cell_type": "markdown",
   "metadata": {},
   "source": [
    "Then we should be able to visit the following url:"
   ]
  },
  {
   "cell_type": "markdown",
   "metadata": {},
   "source": [
    "* http://localhost/locations"
   ]
  },
  {
   "cell_type": "markdown",
   "metadata": {},
   "source": [
    "Ok, if this is working properly on our laptop, let's push up the image to dockerhub.  We do so by making sure we are loggedin to our docker account.  If we have docker desktop, we can just click on the icon and confirm that we see our username."
   ]
  },
  {
   "cell_type": "markdown",
   "metadata": {},
   "source": [
    "<img src=\"./signed-in.png\" width=\"20%\">"
   ]
  },
  {
   "cell_type": "markdown",
   "metadata": {},
   "source": [
    "If we don't, we can click on `Sign In`.  Alternatively, we can, from our terminal use the `docker login` command.\n",
    "\n",
    "```bash\n",
    "docker login -u USERNAME -p PASSWORD\n",
    "```"
   ]
  },
  {
   "cell_type": "markdown",
   "metadata": {},
   "source": [
    "Ok, once we are logged in, we can push our repository up to dockerhub."
   ]
  },
  {
   "cell_type": "markdown",
   "metadata": {},
   "source": [
    "* `docker push jek2141/foursquare_backend` (replace with your username)."
   ]
  },
  {
   "cell_type": "markdown",
   "metadata": {},
   "source": [
    "### Setting up our EC2"
   ]
  },
  {
   "cell_type": "markdown",
   "metadata": {},
   "source": [
    "Ok, now that we have our repository hosted on dockerhub, the next step is to setup our ec2 machine, pull down our image from dockerhub, and start up our container.  \n",
    "\n",
    "So login to AWS, go to the EC2 console [here](https://us-east-1.console.aws.amazon.com/ec2), and then create a new EC2 machine.  (The link is for us-east-1, you may want to change your region).\n",
    "\n",
    "Then click on `Launch instance`.  From there, you can use the micro instance, and then select a key pair that matches a pem file you have on your computer (or just click `Create new key pair`)."
   ]
  },
  {
   "cell_type": "markdown",
   "metadata": {},
   "source": [
    "<img src=\"./key-pair.png\" width=\"40%\">"
   ]
  },
  {
   "cell_type": "markdown",
   "metadata": {},
   "source": [
    "After this, you can select the checkmarks for `Allow SSH traffic from` and `Allow HTTP traffic from the internet`."
   ]
  },
  {
   "cell_type": "markdown",
   "metadata": {},
   "source": [
    "<img src=\"./http-traffic.png\" width=\"50%\">"
   ]
  },
  {
   "cell_type": "markdown",
   "metadata": {},
   "source": [
    "Then, after the EC2 machine is created, click on the EC2 machine, and check that the correct security group rules were added."
   ]
  },
  {
   "cell_type": "markdown",
   "metadata": {},
   "source": [
    "<img src=\"./sec-groups.png\">"
   ]
  },
  {
   "cell_type": "markdown",
   "metadata": {},
   "source": [
    "So above, we confirm that we any computer can access port 80, for http access, and that we have also made port 22 accessible for ssh access."
   ]
  },
  {
   "cell_type": "markdown",
   "metadata": {},
   "source": [
    "### Pulling and Running our Docker Image"
   ]
  },
  {
   "cell_type": "markdown",
   "metadata": {},
   "source": [
    "Ok, so next up, we need to pull down and run our docker image on our EC2 machine.  So first ssh into your ec2 machine.  Do this by clicking on your ec2 machine, and then clicking on `Actions > Connect`."
   ]
  },
  {
   "cell_type": "markdown",
   "metadata": {},
   "source": [
    "<img src=\"./connect-ec2.png\">"
   ]
  },
  {
   "cell_type": "markdown",
   "metadata": {},
   "source": [
    "Ok, this will give you instructions for sshing into your ec2 machine.  So ssh into your machine, and then we'll need to install and boot up docker.  We can do so with the following:"
   ]
  },
  {
   "cell_type": "markdown",
   "metadata": {},
   "source": [
    "```bash\n",
    "sudo yum update -y \n",
    "sudo yum install docker -y\n",
    "sudo systemctl start docker\n",
    "```\n",
    "\n",
    "Ok so first line updates the yum package manager, then we use the package manager to install docker.  And finally we start the docker service with `systemctl` which is a linux program that allows us to manage programs."
   ]
  },
  {
   "cell_type": "markdown",
   "metadata": {},
   "source": [
    "From there we can confirm docker is running with the following: \n",
    "\n",
    "```bash\n",
    "sudo docker ps\n",
    "```"
   ]
  },
  {
   "cell_type": "markdown",
   "metadata": {},
   "source": [
    "Ok, now let's pull down our image and boot up our container."
   ]
  },
  {
   "cell_type": "markdown",
   "metadata": {},
   "source": [
    "> In the commands below, replace `jek2141` with your username.\n",
    "\n",
    "```bash\n",
    "sudo docker pull jek2141/foursquare_backend\n",
    "sudo docker run -p 80:80 jek2141/foursquare_backend\n",
    "```"
   ]
  },
  {
   "cell_type": "markdown",
   "metadata": {},
   "source": [
    "> Notice that we map our ec2 machine's port 80 to our container's port 80, where the api running."
   ]
  },
  {
   "cell_type": "markdown",
   "metadata": {},
   "source": [
    "<img src=\"./running-all.png\">"
   ]
  },
  {
   "cell_type": "markdown",
   "metadata": {},
   "source": [
    "Notice that flask is saying it is accepting requests from any computer (0.0.0.0).  This is because of that when our Dockerfile calls `flask run` it provided the appropriate flags.\n",
    "\n",
    "```bash\n",
    "CMD [\"flask\", \"run\", \"--host=0.0.0.0\", \"--port=80\"]\n",
    "```"
   ]
  },
  {
   "cell_type": "markdown",
   "metadata": {},
   "source": [
    "Ok, now let's try it out.  Find the domain name associated with your ec2 machine -- and make sure you make a request to `http://domain_name/locations`."
   ]
  },
  {
   "cell_type": "markdown",
   "metadata": {},
   "source": [
    "<img src=\"./make-request.png\" width=\"60%\">"
   ]
  },
  {
   "cell_type": "markdown",
   "metadata": {},
   "source": [
    "Great so now we can see that have properly deployed our code using docker."
   ]
  },
  {
   "cell_type": "markdown",
   "metadata": {},
   "source": [
    "### The workflow"
   ]
  },
  {
   "cell_type": "markdown",
   "metadata": {},
   "source": [
    "So what would a coding workflow look like using docker?  Well, notice that we can code inside of our docker container, by using bind mounts to our code, and then when things are working push up our code to github.\n",
    "\n",
    "Let's remember how to do this."
   ]
  },
  {
   "cell_type": "markdown",
   "metadata": {},
   "source": [
    "From the `api` folder run the following (update image name with your username):\n",
    "    \n",
    "* `docker run -e FLASK_ENV=development -p 80:80 -v $PWD:/usr/src/app jek2141/foursquare_backend`"
   ]
  },
  {
   "cell_type": "markdown",
   "metadata": {},
   "source": [
    "> Above, we are passing the environmental variable `FLASK_ENV` into our docker container, to ensure that we can update flask and see changes without needing to shutdown our server.  It's the equivalent of `flask.run(debug = True)`."
   ]
  },
  {
   "cell_type": "markdown",
   "metadata": {},
   "source": [
    "Confirm that you can change the json that the API sends back, and that when you refresh the page you can see the changes.  Ok, so next in the workflow, you can push your code up to a branch in github.  And then, when things look good, merge to the main branch."
   ]
  },
  {
   "cell_type": "markdown",
   "metadata": {},
   "source": [
    "Now, in the docker file, we can get these updates by pulling down updates to the main branch.  This can replace our line of `COPY ./ ./`.\n",
    "\n",
    "```dockerfile\n",
    "FROM python:3.7-alpine\n",
    "WORKDIR /usr/src/app\n",
    "\n",
    "# COPY ./ ./ \n",
    "\n",
    "RUN git pull https://github.com/jigsawlabs-student/foursquare-fullstack\n",
    "\n",
    "RUN apk update \\\n",
    "    && apk add postgresql-dev gcc python3-dev musl-dev\n",
    "\n",
    "RUN pip3 install -r requirements.txt\n",
    "\n",
    "CMD [\"flask\", \"run\", \"--host=0.0.0.0\", \"--port=80\"]\n",
    "```\n",
    "\n"
   ]
  },
  {
   "cell_type": "markdown",
   "metadata": {},
   "source": [
    "**But...** there is a catch.  One issue we'll have is that docker will not know to rebuild the image just because we push up our code to github.  This is because, if no lines in the Dockerfile have changed, Docker will use the image's cache rather than rebuild the image.  \n",
    "\n",
    "So to get the updates, we will not only have to rebuild the image, but also specify to not use the cache.  We can do this with the `--no-cache` flag like so."
   ]
  },
  {
   "cell_type": "markdown",
   "metadata": {},
   "source": [
    "`docker build --no-cache -t image-name .`"
   ]
  },
  {
   "cell_type": "markdown",
   "metadata": {},
   "source": [
    "That line will automatically rebuild the image.  But there is another problem.  After we push up to dockerhub, docker will not pull down an image it thinks we already have on our computer.  So we'll have to not only build the image using the `--no-cache` flag, but also should tag that image with a new version number.  So now our workflow will look like the following:\n",
    "\n",
    "1. Merge changes to the main branch\n",
    "2. Build the image specifying no-cache and tagging the image with a version\n",
    "\n",
    "`docker build --no-cache -t jek2141/foursquare_backend:v1 .`\n",
    "\n",
    "3. Pushing up the image to dockerhub\n",
    "\n",
    "`docker push jek2141/foursquare_backend:v1`\n",
    "\n",
    "4. Connecting to the ec2 machine and then pulling down the image, specifying the tag\n",
    "\n",
    "`sudo docker pull jek2141/foursquare_backend:v1`\n",
    "\n",
    "And finally booting up the image.\n",
    "\n",
    "`sudo docker run -p 80:80 jek2141/foursquare_backend:v1`\n"
   ]
  },
  {
   "cell_type": "markdown",
   "metadata": {},
   "source": [
    "* Cleaning up "
   ]
  },
  {
   "cell_type": "markdown",
   "metadata": {},
   "source": [
    "When you are done with this reading be sure to destroy your ec2 machine."
   ]
  },
  {
   "cell_type": "markdown",
   "metadata": {},
   "source": [
    "<img src=\"./terminate-ec2.png\" width=\"60%\">"
   ]
  },
  {
   "cell_type": "markdown",
   "metadata": {},
   "source": [
    "### Summary"
   ]
  },
  {
   "cell_type": "markdown",
   "metadata": {},
   "source": [
    "In this lesson, we saw how we can deploy docker to our ec2 machine.  Key steps were to make sure flask allowed requests from non-localhost machines, testing out our docker image locally, pushing it to jupyterhub.  Then after setting up an EC2 machine, we needed to install docker, start up docker, and then pull down our image and run the container, mapping the port 80 of our EC2 machine to our container's port 80. "
   ]
  },
  {
   "cell_type": "markdown",
   "metadata": {},
   "source": [
    "### Resources"
   ]
  },
  {
   "cell_type": "markdown",
   "metadata": {},
   "source": [
    "[Docker AWS](https://medium.com/@srijaanaparthy/step-by-step-guide-to-install-docker-on-amazon-linux-machine-in-aws-a690bf44b5fe)\n",
    "\n",
    "[AWS EC2 Docker](https://medium.com/@chandupriya93/deploying-docker-containers-with-aws-ec2-instance-265038bba674)\n",
    "\n",
    "[terraform ec2 docker](https://www.harrisoncramer.me/setting-up-docker-with-terraform-and-ec2/)\n",
    "\n",
    "[AWS Terraform App runner](https://medium.com/kocsistem/how-to-deploy-docker-image-to-aws-app-runner-with-terraform-5048eecff047)"
   ]
  }
 ],
 "metadata": {
  "kernelspec": {
   "display_name": "Python 3 (ipykernel)",
   "language": "python",
   "name": "python3"
  },
  "language_info": {
   "codemirror_mode": {
    "name": "ipython",
    "version": 3
   },
   "file_extension": ".py",
   "mimetype": "text/x-python",
   "name": "python",
   "nbconvert_exporter": "python",
   "pygments_lexer": "ipython3",
   "version": "3.10.13"
  }
 },
 "nbformat": 4,
 "nbformat_minor": 4
}
