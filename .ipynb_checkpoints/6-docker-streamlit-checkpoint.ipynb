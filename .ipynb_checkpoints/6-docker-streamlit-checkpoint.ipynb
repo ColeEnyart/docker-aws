{
 "cells": [
  {
   "cell_type": "markdown",
   "metadata": {},
   "source": [
    "# Flask Docker Compose"
   ]
  },
  {
   "cell_type": "markdown",
   "metadata": {},
   "source": [
    "### Introduction"
   ]
  },
  {
   "cell_type": "markdown",
   "metadata": {},
   "source": [
    "In this lesson, we'll build a dockerized streamlit front-end.  Ok, let's get started."
   ]
  },
  {
   "cell_type": "markdown",
   "metadata": {},
   "source": [
    "### Structuring our application"
   ]
  },
  {
   "cell_type": "markdown",
   "metadata": {},
   "source": [
    "To begin, notice that we already have the api folder from the previous lab.  That folder has the api codebase in the `src/` file and the related DockerFile.  "
   ]
  },
  {
   "cell_type": "markdown",
   "metadata": {},
   "source": [
    "```\n",
    "foursquare/\n",
    "|\n",
    "└── api\n",
    "    |_src\n",
    "    |_DockerFile\n",
    "    |_requirements.txt\n",
    "└── frontend\n",
    "```"
   ]
  },
  {
   "cell_type": "markdown",
   "metadata": {},
   "source": [
    "In this lesson, we'll need to fill in some of the code for the front end component."
   ]
  },
  {
   "cell_type": "markdown",
   "metadata": {},
   "source": [
    "### Connecting the Services"
   ]
  },
  {
   "cell_type": "markdown",
   "metadata": {},
   "source": [
    "So the first step is to build an initial streamlit app.  To do this, we'll have the frontend code take the following structure:\n",
    "\n",
    "```\n",
    "frontend\n",
    "├── Dockerfile\n",
    "├── requirements.txt\n",
    "└── src\n",
    "    └── index.py\n",
    "```"
   ]
  },
  {
   "cell_type": "markdown",
   "metadata": {},
   "source": [
    "As usual, let's use our strategy of first getting our project running without Docker, and then dockerizing our application."
   ]
  },
  {
   "cell_type": "markdown",
   "metadata": {},
   "source": [
    "To begin, the `requirements.txt` should have the following libraries listed:"
   ]
  },
  {
   "cell_type": "markdown",
   "metadata": {},
   "source": [
    "```\n",
    "streamlit\n",
    "black\n",
    "altair\n",
    "```"
   ]
  },
  {
   "cell_type": "markdown",
   "metadata": {},
   "source": [
    "> Altair is a data visualization library."
   ]
  },
  {
   "cell_type": "markdown",
   "metadata": {},
   "source": [
    "And in the `index.py` file we can place the following:"
   ]
  },
  {
   "cell_type": "markdown",
   "metadata": {},
   "source": [
    "```python\n",
    "import streamlit as st\n",
    "\n",
    "st.write(\"\"\"\n",
    "# My first app\n",
    "Hello *world!*\n",
    "\"\"\")\n",
    "```"
   ]
  },
  {
   "cell_type": "markdown",
   "metadata": {},
   "source": [
    "At this point, we should be able to boot up our streamlit app by installing the libraries specified in `requirements.txt`. And then running `streamlit run src/index.py`."
   ]
  },
  {
   "cell_type": "markdown",
   "metadata": {},
   "source": [
    "* Dockerizing streamlit"
   ]
  },
  {
   "cell_type": "markdown",
   "metadata": {},
   "source": [
    "From here, we can dockerize our streamlit app.  We'll do so by filling in the corresponding `Dockerfile`.  The one trick is that the Dockerfile should inherit from with `python:3.7` instead of `python:3.7-alpine`.\n",
    "\n",
    "So the first two lines will look like the following:"
   ]
  },
  {
   "cell_type": "markdown",
   "metadata": {},
   "source": [
    "```Dockerfile\n",
    "FROM python:3.7\n",
    "WORKDIR /usr/src/app\n",
    "```"
   ]
  },
  {
   "cell_type": "markdown",
   "metadata": {},
   "source": [
    "> We'll let you finish it up the Dockerfile from there.\n",
    "\n",
    "> Make sure that any steps after installing our pip packages take advantage of the Docker cache."
   ]
  },
  {
   "cell_type": "markdown",
   "metadata": {},
   "source": [
    "When it's complete, build the image and then run a container, exposing the appropriate port.\n",
    "\n",
    "> Note that building the image may take a few minutes to complete, so feel free to take a 3-5 minute break while waiting."
   ]
  },
  {
   "cell_type": "markdown",
   "metadata": {},
   "source": [
    "<img src=\"streamlit-initial.png\" width=\"60%\">"
   ]
  },
  {
   "cell_type": "markdown",
   "metadata": {},
   "source": [
    "### Updating the Application"
   ]
  },
  {
   "cell_type": "markdown",
   "metadata": {},
   "source": [
    "Next, let's use a bind mount so that we can update the streamlit application while it is running in the container.  Now before we do so, note that it's important that we specify the absolute path of the code we want to update inside of the container.\n",
    "\n",
    "To find the absolute path, we should `sh` into the container and look at the path that our code in the `src` directory is located.  So first find that path.\n",
    "\n",
    "Then, shutdown the current container and run a new one such that while running the container, we can update the contents of the `frontend/src/` folder.\n",
    "\n",
    "Give it a shot. \n",
    "\n",
    "Try to make updates to the codebase, and refresh the streamlit application to see if they are reflected.\n",
    "\n",
    "Then, when you feel comfortable with the changes, rebuild the image so the updated codebase is copied over.  Docker should not have to reinstall the packages in building this next version of the image. "
   ]
  },
  {
   "cell_type": "markdown",
   "metadata": {},
   "source": [
    "### Summary"
   ]
  },
  {
   "cell_type": "markdown",
   "metadata": {},
   "source": [
    "In this lesson, we practiced dockerizing our frontend application.  We did so with the same technique of first getting our application to work without Docker, and then wrapping the application in a Docker container.  Then we practiced using the Docker cache, so that every time we make a change to our application we do not need to  \n",
    "\n",
    "From there, we saw how we can continue to develop our codebase with Docker by using bindmounts to reference code outside of our container.  Notice that if we rebuild the image, we will copy over the updated code."
   ]
  },
  {
   "cell_type": "markdown",
   "metadata": {},
   "source": [
    "### Resources\n",
    "\n",
    "[DockerFile best practices](https://docs.docker.com/develop/develop-images/dockerfile_best-practices/)\n",
    "\n",
    "[Docker compose env](https://medium.com/better-programming/using-variables-in-docker-compose-265a604c2006)\n",
    "\n",
    "[Parts unknown travel places](https://github.com/underthecurve/bourdain-travel-places)\n",
    "\n",
    "[Return Json from DB](https://varun-verma.medium.com/use-psycopg2-to-return-dictionary-like-values-key-value-pairs-4d3047d8de1b)\n",
    "\n",
    "[Dockerizing Flask and Unicorn](https://testdriven.io/blog/dockerizing-flask-with-postgres-gunicorn-and-nginx/)\n",
    "\n",
    "[Docker build](https://stackoverflow.com/questions/46711990/error-pg-config-executable-not-found-when-installing-psycopg2-on-alpine-in-docker)\n",
    "\n",
    "[Nginx Flask Docker Postgres](http://www.ameyalokare.com/docker/2017/09/20/nginx-flask-postgres-docker-compose.html)"
   ]
  },
  {
   "cell_type": "markdown",
   "metadata": {},
   "source": [
    "[docker with volumes](https://www.saltycrane.com/blog/2019/01/how-run-postgresql-docker-mac-local-development/)"
   ]
  }
 ],
 "metadata": {
  "kernelspec": {
   "display_name": "Python 3",
   "language": "python",
   "name": "python3"
  },
  "language_info": {
   "codemirror_mode": {
    "name": "ipython",
    "version": 3
   },
   "file_extension": ".py",
   "mimetype": "text/x-python",
   "name": "python",
   "nbconvert_exporter": "python",
   "pygments_lexer": "ipython3",
   "version": "3.8.6"
  }
 },
 "nbformat": 4,
 "nbformat_minor": 4
}
